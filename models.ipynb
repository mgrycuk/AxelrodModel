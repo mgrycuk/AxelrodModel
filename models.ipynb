{
 "cells": [
  {
   "cell_type": "code",
   "execution_count": 6,
   "metadata": {},
   "outputs": [],
   "source": [
    "import numpy as np\n",
    "import random\n",
    "import networkx as nx"
   ]
  },
  {
   "cell_type": "code",
   "execution_count": 4,
   "metadata": {},
   "outputs": [
    {
     "name": "stdout",
     "output_type": "stream",
     "text": [
      "[ 1  1 -1  0  0  1  0  1  1 -1  0  0 -1  0  0  1  0  0  0  1]\n",
      "[-1 -1 -1  1 -1  1 -1  1 -1 -1 -1  1 -1  1 -1 -1 -1 -1  1 -1]\n"
     ]
    }
   ],
   "source": [
    "no_vertices = 20\n",
    "no_steps = 10000\n",
    "i=0\n",
    "opinions = np.random.randint(-1,2,size=no_vertices,dtype='int')\n",
    "print(opinions)\n",
    "clock = np.random.exponential(scale = 1.0, size=no_vertices)\n",
    "while i < no_steps:\n",
    "    vertex_ind = np.argmin(clock)\n",
    "    neighbour_ind = random.randint(0,no_vertices - 1)\n",
    "    while neighbour_ind == vertex_ind:\n",
    "        neighbour_ind = random.randint(0,no_vertices - 1)\n",
    "    if not abs(opinions[vertex_ind] - opinions[neighbour_ind]) == 2:\n",
    "       opinions[vertex_ind] = opinions[neighbour_ind]\n",
    "    clock = clock - clock[np.argmin(clock)]\n",
    "    clock[vertex_ind] = np.random.exponential(scale = 1.0, size=1)\n",
    "    i=i+1\n",
    "print(opinions)"
   ]
  },
  {
   "cell_type": "code",
   "execution_count": 13,
   "metadata": {},
   "outputs": [
    {
     "name": "stdout",
     "output_type": "stream",
     "text": [
      "[[0 1 0]\n",
      " [1 1 1]\n",
      " [0 1 0]]\n",
      "[[1 1 1]\n",
      " [1 1 1]\n",
      " [0 1 0]]\n"
     ]
    }
   ],
   "source": [
    "no_vertices = 3\n",
    "no_steps = 100000\n",
    "no_features = 3\n",
    "no_opinions=2\n",
    "\n",
    "opinions = np.random.randint(0,no_opinions,size=[no_vertices,no_features],dtype='int')\n",
    "print(opinions)\n",
    "# opinions[vertex number][feature number]\n",
    "clock = np.random.exponential(scale = 1.0, size=no_vertices)\n",
    "i=0\n",
    "while i < no_steps:\n",
    "    vertex_ind = np.argmin(clock)\n",
    "    agreements = np.zeros(no_vertices)\n",
    "    n=0\n",
    "    while n < no_vertices:\n",
    "        k=0\n",
    "        while k < no_features:\n",
    "            if opinions[vertex_ind][k]==opinions[n][k]:\n",
    "                agreements[n] = agreements[n] + 1\n",
    "            k=k+1\n",
    "        n=n+1\n",
    "    agreements[vertex_ind] = 0 #agreements[vertex_ind] - no_features\n",
    "    s=np.sum(agreements)\n",
    "    agreements = agreements / s\n",
    "    l=0\n",
    "    while l < no_vertices-1:\n",
    "        agreements[l+1] = agreements[l+1] + agreements[l]\n",
    "        l=l+1\n",
    "    r = random.random()\n",
    "    l=0\n",
    "    while l<no_vertices - 1:\n",
    "        if r < agreements[l]:\n",
    "            neighbour_ind = l\n",
    "            break\n",
    "        l=l+1\n",
    "    ch_feature = random.randint(0, no_features-1)\n",
    "    l=0\n",
    "    while True:\n",
    "        if np.all(opinions[vertex_ind] == opinions[neighbour_ind]):\n",
    "            break\n",
    "        if not opinions[vertex_ind][ch_feature] == opinions[neighbour_ind][ch_feature]:\n",
    "            opinions[vertex_ind][ch_feature] = opinions[neighbour_ind][ch_feature]\n",
    "            break\n",
    "        else:\n",
    "            k=ch_feature\n",
    "            ch_feature = random.randint(0, no_features-1)\n",
    "    i=i+1\n",
    "print(opinions)"
   ]
  },
  {
   "cell_type": "code",
   "execution_count": 7,
   "metadata": {},
   "outputs": [
    {
     "name": "stdout",
     "output_type": "stream",
     "text": [
      "[ 0  1  0  1  1 -1  1 -1  0  0 -1 -1  1  0 -1  0 -1  1 -1  0]\n",
      "[0 0 0 0 0 0 0 0 0 0 0 0 0 0 0 0 0 0 0 0]\n"
     ]
    }
   ],
   "source": [
    "no_vertices = 20\n",
    "no_steps = 10000\n",
    "G=nx.erdos_renyi_graph(no_vertices,0.5)\n",
    "opinions = np.random.randint(-1,2,size=no_vertices,dtype='int')\n",
    "print(opinions)\n",
    "clock = np.random.exponential(scale = 1.0, size=no_vertices)\n",
    "i=0\n",
    "while i < no_steps:\n",
    "    vertex_ind = np.argmin(clock)\n",
    "    neighbours=list(G.neighbors(vertex_ind))\n",
    "    neighbour_ind = random.choice(neighbours)\n",
    "    if not abs(opinions[vertex_ind] - opinions[neighbour_ind]) == 2:\n",
    "        opinions[vertex_ind] = opinions[neighbour_ind]\n",
    "    clock = clock - clock[np.argmin(clock)]\n",
    "    clock[vertex_ind] = np.random.exponential(scale = 1.0, size=1)\n",
    "    i=i+1\n",
    "print(opinions)"
   ]
  },
  {
   "cell_type": "code",
   "execution_count": 8,
   "metadata": {},
   "outputs": [
    {
     "name": "stdout",
     "output_type": "stream",
     "text": [
      "[[1 0 0]\n",
      " [0 0 0]\n",
      " [0 0 1]]\n",
      "[[1 0 0]\n",
      " [0 0 0]\n",
      " [1 0 0]]\n"
     ]
    }
   ],
   "source": [
    "no_vertices = 3\n",
    "no_steps = 100000\n",
    "no_features = 3\n",
    "no_opinions=2\n",
    "G=nx.complete_graph(no_vertices)\n",
    "\n",
    "opinions = np.random.randint(0,no_opinions,size=[no_vertices,no_features],dtype='int')\n",
    "print(opinions)\n",
    "# opinions[vertex number][feature number]\n",
    "clock = np.random.exponential(scale = 1.0, size=no_vertices)\n",
    "i=0\n",
    "while i < no_steps:\n",
    "    vertex_ind = np.argmin(clock)\n",
    "    agreements = np.zeros(no_vertices)\n",
    "    n=0\n",
    "    neighbors=list(G.neighbors(vertex_ind))\n",
    "    for n in neighbors:\n",
    "        k=0\n",
    "        while k < no_features:\n",
    "            if opinions[vertex_ind][k]==opinions[n][k]:\n",
    "                agreements[n] = agreements[n] + 1\n",
    "            k=k+1\n",
    "        n=n+1\n",
    "    agreements[vertex_ind] = 0 #agreements[vertex_ind] - no_features\n",
    "    s=np.sum(agreements)\n",
    "    agreements = agreements / s\n",
    "    l=0\n",
    "    while l < no_vertices-1:\n",
    "        agreements[l+1] = agreements[l+1] + agreements[l]\n",
    "        l=l+1\n",
    "    r = random.random()\n",
    "    l=0\n",
    "    while l<no_vertices - 1:\n",
    "        if r < agreements[l]:\n",
    "            neighbour_ind = l\n",
    "            break\n",
    "        l=l+1\n",
    "    ch_feature = random.randint(0, no_features-1)\n",
    "    l=0\n",
    "    while True:\n",
    "        if np.all(opinions[vertex_ind] == opinions[neighbour_ind]):\n",
    "            break\n",
    "        if not opinions[vertex_ind][ch_feature] == opinions[neighbour_ind][ch_feature]:\n",
    "            opinions[vertex_ind][ch_feature] = opinions[neighbour_ind][ch_feature]\n",
    "            break\n",
    "        else:\n",
    "            k=ch_feature\n",
    "            ch_feature = random.randint(0, no_features-1)\n",
    "    i=i+1\n",
    "print(opinions)"
   ]
  },
  {
   "cell_type": "code",
   "execution_count": null,
   "metadata": {},
   "outputs": [],
   "source": []
  }
 ],
 "metadata": {
  "kernelspec": {
   "display_name": "Python 3",
   "language": "python",
   "name": "python3"
  },
  "language_info": {
   "codemirror_mode": {
    "name": "ipython",
    "version": 3
   },
   "file_extension": ".py",
   "mimetype": "text/x-python",
   "name": "python",
   "nbconvert_exporter": "python",
   "pygments_lexer": "ipython3",
   "version": "3.5.2"
  }
 },
 "nbformat": 4,
 "nbformat_minor": 2
}
